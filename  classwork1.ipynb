{
 "cells": [
  {
   "cell_type": "code",
   "execution_count": 1,
   "id": "02c0175d",
   "metadata": {},
   "outputs": [
    {
     "name": "stdout",
     "output_type": "stream",
     "text": [
      "Katie Tamuno\n",
      "Bicah Tamuno\n",
      "Lemah Tamuno\n",
      "Judie Tamuno\n"
     ]
    }
   ],
   "source": [
    "first_names = [\"katie\", \"bicah\", \"lemah\", \"judie\"]\n",
    "surname = [\"tamuno\"]\n",
    "\n",
    "\n",
    "ab = f'{first_names[0]} {surname[0]}'\n",
    "\n",
    "cd = f'{first_names[1]} {surname[0]}'\n",
    "\n",
    "ef = f'{first_names[2]} {surname[0]}'\n",
    "\n",
    "gh = f'{first_names[3]} {surname[0]}'\n",
    "\n",
    "print(ab.title())\n",
    "print(cd.title())\n",
    "print(ef.title())\n",
    "print(gh.title())\n"
   ]
  },
  {
   "cell_type": "code",
   "execution_count": null,
   "id": "4d2e95c1",
   "metadata": {},
   "outputs": [],
   "source": []
  }
 ],
 "metadata": {
  "kernelspec": {
   "display_name": "Python 3 (ipykernel)",
   "language": "python",
   "name": "python3"
  },
  "language_info": {
   "codemirror_mode": {
    "name": "ipython",
    "version": 3
   },
   "file_extension": ".py",
   "mimetype": "text/x-python",
   "name": "python",
   "nbconvert_exporter": "python",
   "pygments_lexer": "ipython3",
   "version": "3.9.7"
  }
 },
 "nbformat": 4,
 "nbformat_minor": 5
}
